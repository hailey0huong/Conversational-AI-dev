{
 "cells": [
  {
   "cell_type": "code",
   "execution_count": 3,
   "metadata": {},
   "outputs": [],
   "source": [
    "import openai\n",
    "\n",
    "openai.api_key = input(\"My OpenAI Key: \")"
   ]
  },
  {
   "cell_type": "code",
   "execution_count": 6,
   "metadata": {},
   "outputs": [],
   "source": [
    "MODEL = \"gpt-3.5-turbo\"\n",
    "\n",
    "prompt = [\"Please design a bouquet for my friend's birthday. \"\n",
    "        +\"My friend is a very sweet and lovely woman. She likes pastel colors. She has bright skin and dark hair. \"\n",
    "        +\"I only have 2 pink lilies, 5 pink roses, 10 peonies in the shades of light pink and white, 5 light orange ranunculus and some yellow purple freesias. \"\n",
    "        +\"Please list down materials and step-by-step instruction to arrange a loose, garden-style bouquet personalized to her based on color theory in floral design.\"]\n",
    "\n",
    "response = openai.ChatCompletion.create(\n",
    "    model=MODEL,\n",
    "    messages=[\n",
    "        {\"role\": \"system\", \"content\": \"You are a talented florist.\"},\n",
    "        {\"role\": \"user\", \"content\": prompt[0]},\n",
    "    ],\n",
    "    temperature=0,\n",
    ")"
   ]
  },
  {
   "cell_type": "code",
   "execution_count": 8,
   "metadata": {},
   "outputs": [
    {
     "name": "stdout",
     "output_type": "stream",
     "text": [
      "Materials:\n",
      "- 2 pink lilies\n",
      "- 5 pink roses\n",
      "- 10 peonies in shades of light pink and white\n",
      "- 5 light orange ranunculus\n",
      "- Some yellow purple freesias\n",
      "- Floral tape\n",
      "- Floral wire\n",
      "- Scissors\n",
      "- Ribbon\n",
      "\n",
      "Step-by-Step Instructions:\n",
      "1. Start by selecting the peonies in different shades of light pink and white. Cut the stems at an angle and remove any leaves that will be below the waterline.\n",
      "2. Add the pink lilies to the bouquet, placing them slightly off-center to create a focal point. Cut the stems at an angle and remove any leaves that will be below the waterline.\n",
      "3. Add the pink roses to the bouquet, placing them around the lilies and peonies. Cut the stems at an angle and remove any leaves that will be below the waterline.\n",
      "4. Add the light orange ranunculus to the bouquet, placing them in between the peonies and roses. Cut the stems at an angle and remove any leaves that will be below the waterline.\n",
      "5. Add the yellow purple freesias to the bouquet, placing them throughout the arrangement to add pops of color. Cut the stems at an angle and remove any leaves that will be below the waterline.\n",
      "6. Use floral tape to secure the stems together, wrapping it around the stems in a spiral motion.\n",
      "7. Use floral wire to reinforce the stems, wrapping it around the bouquet and twisting the ends together.\n",
      "8. Cut the stems to the desired length, making sure they are all even.\n",
      "9. Tie a ribbon around the stems to finish the bouquet.\n",
      "10. Place the bouquet in a vase with fresh water and flower food to keep it fresh.\n"
     ]
    }
   ],
   "source": [
    "print(response['choices'][0]['message']['content'])"
   ]
  },
  {
   "cell_type": "code",
   "execution_count": null,
   "metadata": {},
   "outputs": [],
   "source": []
  }
 ],
 "metadata": {
  "kernelspec": {
   "display_name": "Python 3.10.9 ('convai')",
   "language": "python",
   "name": "python3"
  },
  "language_info": {
   "codemirror_mode": {
    "name": "ipython",
    "version": 3
   },
   "file_extension": ".py",
   "mimetype": "text/x-python",
   "name": "python",
   "nbconvert_exporter": "python",
   "pygments_lexer": "ipython3",
   "version": "3.10.9"
  },
  "orig_nbformat": 4,
  "vscode": {
   "interpreter": {
    "hash": "9ce9f68cb6561153956c43502d1324c9fbf4e5991beadaf5d3f546254fde4552"
   }
  }
 },
 "nbformat": 4,
 "nbformat_minor": 2
}
