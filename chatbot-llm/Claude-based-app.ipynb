{
 "cells": [
  {
   "cell_type": "code",
   "execution_count": 1,
   "metadata": {},
   "outputs": [],
   "source": [
    "import os\n",
    "import anthropic\n",
    "from ai_florist import AIFloristClaude"
   ]
  },
  {
   "cell_type": "code",
   "execution_count": 2,
   "metadata": {},
   "outputs": [],
   "source": [
    "ANTHROPIC_API_KEY = input(\"Anthropic_key: \")"
   ]
  },
  {
   "cell_type": "code",
   "execution_count": 3,
   "metadata": {},
   "outputs": [
    {
     "name": "stdout",
     "output_type": "stream",
     "text": [
      "HUMAN: Pretending you are a florist. Please design a bouquet for my friend's birthday. My friend is a very sweet and lovely woman. She likes pastel colors. She has bright skin and dark hair. I only have 2 pink lilies, 5 pink roses, 10 peonies in the shades of light pink and white, 5 light orange ranunculus and some yellow purple freesias. Please list down materials and step-by-step instruction to arrange a loose, garden-style bouquet personalized to her based on color theory in floral design.\n",
      "AI Florist:  Here is a suggested loose, garden-style bouquet for your sweet friend's birthday:\n",
      "\n",
      "Materials:\n",
      "- 2 pink lilies \n",
      "- 5 pink roses\n",
      "- 5 light pink peonies\n",
      "- 5 white peonies \n",
      "- 5 light orange ranunculus\n",
      "- 10-15 yellow purple freesias (for greenery and filler)\n",
      "\n",
      " Instructions:\n",
      "\n",
      "1. Start with the larger blooms as the focal point. Place the 2 pink lilies and 3 of the pink roses in the center. The lilies will add height and drama while the roses complement them in color.\n",
      "\n",
      "2. Surround the focal blooms with the peonies. Add 3 light pink peonies on one side and 2 white peonies on the other side. The different shades of peonies will give depth and texture.\n",
      "\n",
      "3. Tuck in the ranunculus in between the peonies. The orange petals will make a nice contrast with the pink and white blooms.\n",
      "\n",
      "4. Add the remaining pink roses in between the focal blooms and peonies. The roses will unify the color scheme and balance the shape. \n",
      "\n",
      "5. Finally, add in the yellow purple freesias around and in between the larger blooms. Place them evenly for a loose, natural look. Their airy and delicate petals will soften the overall silhouette of the bouquet.\n",
      "\n",
      "6. Check all sides of the bouquet and make any final adjustments to the placement and proportions of the blooms. Add any decorative accents like eucalyptus or waxflower if needed.\n",
      "\n",
      "7. Mist the bouquet with water and store in a cool area away from direct sunlight until ready to present to your friend. The loose, wild nature of this garden bouquet means it can last up to 1 week with proper care.\n",
      "\n",
      "Wishing your friend a very happy birthday! Please let me know if you need any clarification or have additional questions. I'm happy to help.\n"
     ]
    }
   ],
   "source": [
    "AIFLorist = AIFloristClaude(api_key=ANTHROPIC_API_KEY)\n",
    "\n",
    "prompt = [\"Pretending you are a florist. Please design a bouquet for my friend's birthday. \"\n",
    "        +\"My friend is a very sweet and lovely woman. She likes pastel colors. She has bright skin and dark hair. \"\n",
    "        +\"I only have 2 pink lilies, 5 pink roses, 10 peonies in the shades of light pink and white, 5 light orange ranunculus and some yellow purple freesias. \"\n",
    "        +\"Please list down materials and step-by-step instruction to arrange a loose, garden-style bouquet personalized to her based on color theory in floral design.\"]\n",
    "\n",
    "AIFLorist.generate_response(prompt=prompt, max_tokens=5000, temperature=1)"
   ]
  },
  {
   "cell_type": "code",
   "execution_count": 4,
   "metadata": {},
   "outputs": [
    {
     "name": "stdout",
     "output_type": "stream",
     "text": [
      "HUMAN: My friend just worked very hard to get a promotion, and she got it finally. Please design a bouquet for her to congratulate her achievement.\n",
      "AI Florist:  Congratulations to your friend on her well-deserved promotion! To celebrate her achievement, here is a suggested bouquet design:\n",
      "\n",
      "Materials:\n",
      "- 3 orange roses (to symbolize enthusiasm, passion and success)\n",
      "- 5 yellow tulips (to represent cheerful thoughts and sunshine) \n",
      "- 7 red gerberas (to signify success and prosperity)\n",
      "- Eucalyptus and salal leaves (for greenery)\n",
      "- Colorful filler flowers like veronica, dianthus and astilbe (for accents of different textures)\n",
      "\n",
      "Instructions:\n",
      "\n",
      "1. Start with a round base of eucalyptus and salal leaves. The bold greenery provides a fresh backdrop for the warm colors. \n",
      "\n",
      "2. Place the 3 orange roses in a triangular shape at the center of the base. The roses are the focal point, signifying your congratulations and best wishes.\n",
      "\n",
      "3. Surround the roses with the yellow tulips and red gerberas. Add 3 tulips on one side and 4 gerberas on the other side of the roses. The complementary colors of yellow and red create visual vibrancy. \n",
      "\n",
      "4. Tuck in the filler flowers between the larger blooms for accents of different shapes and textures. Use dianthus for their ruffled petals, veronica for tall spires and astilbe for ferny fronds.\n",
      "\n",
      "5. Fluff out the bouquet with the remaining red gerberas and yellow tulips spaced evenly around the edges. The bold petals frame the bouquet perfectly.\n",
      "\n",
      "6. Add final touches to the shapes and proportions of the blooms. Mist with water and your congratulatory bouquet is ready to be presented! The warm and vibrant colors in this bouquet design signify your celebratory message for her achievement and the exciting new chapter of her career.\n",
      "\n",
      "Best wishes again to your friend in her new role! Please let me know if you have any other questions. I'm happy to help in any way I can.\n"
     ]
    }
   ],
   "source": [
    "prompt = ['My friend just worked very hard to get a promotion, and she got it finally. Please design a bouquet for her to congratulate her achievement.']\n",
    "\n",
    "AIFLorist.generate_response(prompt=prompt, max_tokens=2000, temperature=1)"
   ]
  },
  {
   "cell_type": "code",
   "execution_count": 9,
   "metadata": {},
   "outputs": [
    {
     "name": "stdout",
     "output_type": "stream",
     "text": [
      "[]\n"
     ]
    }
   ],
   "source": [
    "AIFLorist.reset()\n",
    "print(AIFLorist.chat_history)"
   ]
  },
  {
   "cell_type": "code",
   "execution_count": null,
   "metadata": {},
   "outputs": [],
   "source": []
  }
 ],
 "metadata": {
  "kernelspec": {
   "display_name": "Python 3.10.9 ('convai')",
   "language": "python",
   "name": "python3"
  },
  "language_info": {
   "codemirror_mode": {
    "name": "ipython",
    "version": 3
   },
   "file_extension": ".py",
   "mimetype": "text/x-python",
   "name": "python",
   "nbconvert_exporter": "python",
   "pygments_lexer": "ipython3",
   "version": "3.10.9"
  },
  "orig_nbformat": 4,
  "vscode": {
   "interpreter": {
    "hash": "9ce9f68cb6561153956c43502d1324c9fbf4e5991beadaf5d3f546254fde4552"
   }
  }
 },
 "nbformat": 4,
 "nbformat_minor": 2
}
