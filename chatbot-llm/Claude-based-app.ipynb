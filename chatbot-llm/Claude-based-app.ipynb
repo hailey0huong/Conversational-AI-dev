{
 "cells": [
  {
   "cell_type": "code",
   "execution_count": 1,
   "metadata": {},
   "outputs": [],
   "source": [
    "import os\n",
    "import anthropic\n",
    "from ai_florist import AIFloristClaude"
   ]
  },
  {
   "cell_type": "code",
   "execution_count": 2,
   "metadata": {},
   "outputs": [],
   "source": [
    "ANTHROPIC_API_KEY = input(\"Anthropic_key: \")"
   ]
  },
  {
   "cell_type": "code",
   "execution_count": 5,
   "metadata": {},
   "outputs": [
    {
     "name": "stdout",
     "output_type": "stream",
     "text": [
      "HUMAN: Pretending you are a florist. Please design a bouquet for my friend's birthday. My friend is a very sweet and lovely woman. She likes pastel colors. She has bright skin and dark hair. I only have 2 pink lilies, 5 pink roses, 10 peonies in the shades of light pink and white, 5 light orange ranunculus and some yellow purple freesias. Please list down materials and step-by-step instruction to arrange a loose, garden-style bouquet personalized to her based on color theory in floral design.\n",
      "AI Florist:  Here are the steps I would take to create a birthday bouquet for your friend based on the flowers you have available and her color preferences:\n",
      "\n",
      "Materials:\n",
      "\n",
      "- 2 pink lilies\n",
      "- 5 pink roses\n",
      "- 10 peonies in light pink and white shades\n",
      "- 5 light orange ranunculus\n",
      "- Some yellow and purple freesias\n",
      "- Floral foam or a vase\n",
      "- Ribbon (optional)\n",
      "\n",
      "Instructions:\n",
      "\n",
      "1. Start with the tallest flowers as the centerpiece, the pink lilies and some of the tallest peonies. Place them in the floral foam or vase first. This creates the initial height and shape of the bouquet.\n",
      "\n",
      "2. Add in more peonies around the centerpiece flowers to create fullness while gradually building outwards. Alternate between the light pink and white peonies for a varied look.\n",
      "\n",
      "3. Next, incorporate the pink roses. Disperse them throughout the arrangement, inserting them between the peonies. The roses will add more color and their circular shape provides a nice contrast to the peonies.\n",
      "\n",
      "4. Add in the light orange ranunculus as accents, inserting them on the outer edges of the bouquet. Their bright color will stand out against the more pastel-colored flowers.\n",
      "\n",
      "5. Finally, add in the yellow and purple freesias to bring in complementary colors and texture. Place them scattererd throughout the bouquet to create a loose, effortless feel.\n",
      "\n",
      "6. Once satisfied with the arrangement, wrap the base of the bouquet with ribbon and trim any excess stems to a uniform length. This completes the loose, garden-style birthday bouquet for your friend utilizing her preferred pastel colors. Let me know if you would like me to clarify or expand on any of the steps.\n"
     ]
    }
   ],
   "source": [
    "AIFLorist = AIFloristClaude(api_key=ANTHROPIC_API_KEY)\n",
    "\n",
    "prompt = [\"Pretending you are a florist. Please design a bouquet for my friend's birthday. \"\n",
    "        +\"My friend is a very sweet and lovely woman. She likes pastel colors. She has bright skin and dark hair. \"\n",
    "        +\"I only have 2 pink lilies, 5 pink roses, 10 peonies in the shades of light pink and white, 5 light orange ranunculus and some yellow purple freesias. \"\n",
    "        +\"Please list down materials and step-by-step instruction to arrange a loose, garden-style bouquet personalized to her based on color theory in floral design.\"]\n",
    "\n",
    "AIFLorist.generate_response(prompt=prompt, max_tokens=2000, temperature=1)"
   ]
  },
  {
   "cell_type": "code",
   "execution_count": 7,
   "metadata": {},
   "outputs": [
    {
     "name": "stdout",
     "output_type": "stream",
     "text": [
      "HUMAN: My friend just worked very hard to get a promotion, and she got it finally. Please design a bouquet for her to congratulate her achievement.\n",
      "AI Florist:  Here is a suggested bouquet to congratulate your friend on her promotion:\n",
      "\n",
      "Materials:\n",
      "\n",
      "- Mixed greens like eucalyptus, olive branches or ferns to create a foliage base\n",
      "- Yellow flowers such as sunflowers, roses, lilies or gerbera to symbolize happiness and optimism\n",
      "- A few red flowers such as roses or carnations to add excitement and passion\n",
      "- Fillers like white larkspur or delphinium for height and texture\n",
      "- Ribbon in complementary colors\n",
      "\n",
      "Instructions:\n",
      "\n",
      "1. Start with the mixed greens and create a rounded base shape. The foliage will lend a lush, full feel to the bouquet.\n",
      "\n",
      "2. Add the yellow flowers in the center and towards the top of the bouquet to draw the eye in and convey cheerful congratulations. Mix different yellow flowers for visual interest.\n",
      "\n",
      "3. Include some red flowers,either roses or carnations, around the edges of the bouquet. The red adds a lively, vibrant touch and represents passion or hard work.\n",
      "\n",
      "4. Insert the filler flowers like larkspur throughout the bouquet for height, volume and texture.\n",
      "\n",
      "5. Finish by wrapping the ribbon around the stems to tie them together and trim the stems to a uniform length.\n",
      "\n",
      "This combination of greens, yellows and red in a lush, full bouquet can convey heartfelt congratulations to your friend on her achievement. The specific flowers can be mixed and matched based on preference or availability. Let me know if you would like suggestions for any alternate flowers or colors.\n"
     ]
    }
   ],
   "source": [
    "prompt = ['My friend just worked very hard to get a promotion, and she got it finally. Please design a bouquet for her to congratulate her achievement.']\n",
    "\n",
    "AIFLorist.generate_response(prompt=prompt, max_tokens=2000, temperature=1)"
   ]
  },
  {
   "cell_type": "code",
   "execution_count": 9,
   "metadata": {},
   "outputs": [
    {
     "name": "stdout",
     "output_type": "stream",
     "text": [
      "[]\n"
     ]
    }
   ],
   "source": [
    "AIFLorist.reset()\n",
    "print(AIFLorist.chat_history)"
   ]
  },
  {
   "cell_type": "code",
   "execution_count": null,
   "metadata": {},
   "outputs": [],
   "source": []
  }
 ],
 "metadata": {
  "kernelspec": {
   "display_name": "Python 3.10.9 ('convai')",
   "language": "python",
   "name": "python3"
  },
  "language_info": {
   "codemirror_mode": {
    "name": "ipython",
    "version": 3
   },
   "file_extension": ".py",
   "mimetype": "text/x-python",
   "name": "python",
   "nbconvert_exporter": "python",
   "pygments_lexer": "ipython3",
   "version": "3.10.9"
  },
  "orig_nbformat": 4,
  "vscode": {
   "interpreter": {
    "hash": "9ce9f68cb6561153956c43502d1324c9fbf4e5991beadaf5d3f546254fde4552"
   }
  }
 },
 "nbformat": 4,
 "nbformat_minor": 2
}
